{
  "nbformat": 4,
  "nbformat_minor": 0,
  "metadata": {
    "colab": {
      "provenance": []
    },
    "kernelspec": {
      "name": "python3",
      "display_name": "Python 3"
    },
    "language_info": {
      "name": "python"
    }
  },
  "cells": [
    {
      "cell_type": "markdown",
      "source": [
        "### Lets prove that python list is a dynamic array"
      ],
      "metadata": {
        "id": "ufQrrDRYnh-V"
      }
    },
    {
      "cell_type": "code",
      "source": [
        "import sys\n",
        "L=[]\n",
        "sys.getsizeof(L)"
      ],
      "metadata": {
        "colab": {
          "base_uri": "https://localhost:8080/"
        },
        "id": "JmiKAm3KnfGy",
        "outputId": "83efe8fb-7ef4-4c90-ca7b-7ba7e134b586"
      },
      "execution_count": null,
      "outputs": [
        {
          "output_type": "execute_result",
          "data": {
            "text/plain": [
              "56"
            ]
          },
          "metadata": {},
          "execution_count": 2
        }
      ]
    },
    {
      "cell_type": "code",
      "source": [
        "L=[]\n",
        "for i in range(100):\n",
        "  print(i, sys.getsizeof(L))\n",
        "  L.append(i)"
      ],
      "metadata": {
        "colab": {
          "base_uri": "https://localhost:8080/"
        },
        "id": "WpXMTOlRoGXJ",
        "outputId": "c4a724f8-b06e-441a-9ee2-cfcf4f966fe0"
      },
      "execution_count": null,
      "outputs": [
        {
          "output_type": "stream",
          "name": "stdout",
          "text": [
            "0 56\n",
            "1 88\n",
            "2 88\n",
            "3 88\n",
            "4 88\n",
            "5 120\n",
            "6 120\n",
            "7 120\n",
            "8 120\n",
            "9 184\n",
            "10 184\n",
            "11 184\n",
            "12 184\n",
            "13 184\n",
            "14 184\n",
            "15 184\n",
            "16 184\n",
            "17 248\n",
            "18 248\n",
            "19 248\n",
            "20 248\n",
            "21 248\n",
            "22 248\n",
            "23 248\n",
            "24 248\n",
            "25 312\n",
            "26 312\n",
            "27 312\n",
            "28 312\n",
            "29 312\n",
            "30 312\n",
            "31 312\n",
            "32 312\n",
            "33 376\n",
            "34 376\n",
            "35 376\n",
            "36 376\n",
            "37 376\n",
            "38 376\n",
            "39 376\n",
            "40 376\n",
            "41 472\n",
            "42 472\n",
            "43 472\n",
            "44 472\n",
            "45 472\n",
            "46 472\n",
            "47 472\n",
            "48 472\n",
            "49 472\n",
            "50 472\n",
            "51 472\n",
            "52 472\n",
            "53 568\n",
            "54 568\n",
            "55 568\n",
            "56 568\n",
            "57 568\n",
            "58 568\n",
            "59 568\n",
            "60 568\n",
            "61 568\n",
            "62 568\n",
            "63 568\n",
            "64 568\n",
            "65 664\n",
            "66 664\n",
            "67 664\n",
            "68 664\n",
            "69 664\n",
            "70 664\n",
            "71 664\n",
            "72 664\n",
            "73 664\n",
            "74 664\n",
            "75 664\n",
            "76 664\n",
            "77 792\n",
            "78 792\n",
            "79 792\n",
            "80 792\n",
            "81 792\n",
            "82 792\n",
            "83 792\n",
            "84 792\n",
            "85 792\n",
            "86 792\n",
            "87 792\n",
            "88 792\n",
            "89 792\n",
            "90 792\n",
            "91 792\n",
            "92 792\n",
            "93 920\n",
            "94 920\n",
            "95 920\n",
            "96 920\n",
            "97 920\n",
            "98 920\n",
            "99 920\n"
          ]
        }
      ]
    },
    {
      "cell_type": "markdown",
      "source": [
        "# Lets make our own class which repliactes python list"
      ],
      "metadata": {
        "id": "80y1DRlLoxU0"
      }
    },
    {
      "cell_type": "markdown",
      "source": [
        "Features we want to add:\n",
        "1. create list\n",
        "2. len of list\n",
        "3. append a new item to list\n",
        "4. print of list\n",
        "5. indexing\n",
        "6. pop (do delete the last item)\n",
        "7. clear( to erase all item of the list)\n",
        "8. find( find the index of the given item)\n",
        "9. insert( insert a new item at given index)\n",
        "10. delete ( delete the item at given index)\n",
        "11. remove( delete the given item)\n",
        "\n",
        "task\n",
        "12. sort/ min/ max/ sum\n",
        "13. extend\n",
        "14. negative indexing\n",
        "15. slicing\n",
        "16. merge"
      ],
      "metadata": {
        "id": "uEYKYMLrJTU7"
      }
    },
    {
      "cell_type": "code",
      "source": [
        "import ctypes\n",
        "class MeraList:\n",
        "  def __init__(self):\n",
        "\n",
        "    self.size =1\n",
        "    # size of the array\n",
        "    self.n = 0\n",
        "    # number items present in the array\n",
        "\n",
        "    #lets create a C type array with size = self.size\n",
        "    self.A = self.__make_array(self.size)\n",
        "\n",
        "  def __make_array(self, capacity):\n",
        "    # this creates a c type array(static and referntial) with size = capacity\n",
        "    return (capacity * ctypes.py_object)()\n",
        "\n",
        "  def __len__(self):\n",
        "    return self.n\n",
        "\n",
        "  def append(self, item):\n",
        "    if self.n == self.size:\n",
        "      # reize\n",
        "      self.__resize(self.size*2)\n",
        "\n",
        "    #append\n",
        "    self.A[self.n] = item\n",
        "    self.n +=1\n",
        "\n",
        "  # to delete the last item\n",
        "  def pop(self):\n",
        "    if self.n ==0:\n",
        "      return \"Empty list\"\n",
        "\n",
        "    print(self.A[self.n-1])\n",
        "    self.n = self.n -1\n",
        "\n",
        " # to clear the list\n",
        "  def clear(self):\n",
        "    # can be done by recreating the initial stage\n",
        "    self.n =0\n",
        "    self.size =1\n",
        "\n",
        "\n",
        "  # to find any item in the list\n",
        "  def find(self, item):\n",
        "    for i in range(self.n):\n",
        "      if self.A[i] == item:\n",
        "        return i\n",
        "\n",
        "    return \"ValueError - Item not found in the list\"\n",
        "\n",
        "\n",
        "  # to insert an item at a defined index\n",
        "  def insert(self, index, item):\n",
        "    # check if space is available\n",
        "    if self.size == self.n:\n",
        "      self.__resize(self.size*2)\n",
        "    else:\n",
        "      for i in range(self.n, index, -1):\n",
        "        self.A[i] = self.A[i-1]\n",
        "      self.A[index] = item\n",
        "      self.n = self.n +1\n",
        "\n",
        "\n",
        "  def __delitem__(self, index):\n",
        "    #shiffting\n",
        "    if 0 <= index < self.n:\n",
        "      for i in range(index, self.n-1):\n",
        "        self.A[i] = self.A[i+ 1]\n",
        "\n",
        "      self.n = self.n -1\n",
        "\n",
        "\n",
        "  def remove(self, item):\n",
        "    pos = self.find(item)\n",
        "    if type(pos) == int:\n",
        "      # delete\n",
        "      self.__delitem__(pos)\n",
        "    else:\n",
        "      return pos\n",
        "\n",
        "\n",
        "\n",
        "  def __resize(self, new_capacity):\n",
        "    #create a new array with new caapcity\n",
        "    B = self.__make_array(new_capacity)\n",
        "    self.size = new_capacity\n",
        "\n",
        "    #copy the content of A to B\n",
        "    for i in range(self.n):\n",
        "      B[i] = self.A[i]\n",
        "    # reassign A\n",
        "    self.A = B\n",
        "\n",
        "  def __str__(self):\n",
        "    result = ''\n",
        "    for i in range(self.n):\n",
        "      result = result + str(self.A[i])+','\n",
        "    result = '[' + result[:-1] + ']'\n",
        "    return result\n",
        "\n",
        "\n",
        "  def __getitem__(self, index):\n",
        "    if 0 <= index < self.n:\n",
        "      return self.A[index]\n",
        "    else:\n",
        "      return \"IndexFerror - Index out of range\""
      ],
      "metadata": {
        "id": "i08XwIVLodZr"
      },
      "execution_count": null,
      "outputs": []
    },
    {
      "cell_type": "code",
      "source": [
        "L = MeraList()\n",
        "print(type(L))\n",
        "print(L)"
      ],
      "metadata": {
        "colab": {
          "base_uri": "https://localhost:8080/"
        },
        "id": "x3DOGCgtqFno",
        "outputId": "766e7c82-8069-4ba3-f3d0-7adca052ba50"
      },
      "execution_count": null,
      "outputs": [
        {
          "output_type": "stream",
          "name": "stdout",
          "text": [
            "<class '__main__.MeraList'>\n",
            "<__main__.MeraList object at 0x7ca52ececa50>\n"
          ]
        }
      ]
    },
    {
      "cell_type": "code",
      "source": [
        "L.append(\"hello\")\n",
        "print(len(L))\n",
        "\n",
        "L.append(True)\n",
        "print(len(L))"
      ],
      "metadata": {
        "colab": {
          "base_uri": "https://localhost:8080/"
        },
        "id": "moc56-tuqI7J",
        "outputId": "436e1a07-914a-4cc6-892b-b1b1f5ea9811"
      },
      "execution_count": null,
      "outputs": [
        {
          "output_type": "stream",
          "name": "stdout",
          "text": [
            "1\n",
            "2\n"
          ]
        }
      ]
    },
    {
      "cell_type": "code",
      "source": [],
      "metadata": {
        "id": "tl1B4CXGtbFp"
      },
      "execution_count": null,
      "outputs": []
    }
  ]
}